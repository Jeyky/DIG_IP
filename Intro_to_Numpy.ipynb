{
  "nbformat": 4,
  "nbformat_minor": 0,
  "metadata": {
    "kernelspec": {
      "display_name": "Python 3",
      "language": "python",
      "name": "python3"
    },
    "language_info": {
      "codemirror_mode": {
        "name": "ipython",
        "version": 3
      },
      "file_extension": ".py",
      "mimetype": "text/x-python",
      "name": "python",
      "nbconvert_exporter": "python",
      "pygments_lexer": "ipython3",
      "version": "3.6.9"
    },
    "colab": {
      "name": "Intro_to_Numpy.ipynb",
      "provenance": []
    }
  },
  "cells": [
    {
      "cell_type": "markdown",
      "metadata": {
        "id": "HRxWlOlshP9k",
        "colab_type": "text"
      },
      "source": [
        "# Початок роботи з бібліотекою Numpy"
      ]
    },
    {
      "cell_type": "markdown",
      "metadata": {
        "id": "denw6PAShP9n",
        "colab_type": "text"
      },
      "source": [
        "У даній лабораторній роботі розглянуто наступний функціонал бібліотеки Numpy:\n",
        "1. Створення масиву.\n",
        "2. Відображення масивів .\n",
        "3. Базові операції з масивами."
      ]
    },
    {
      "cell_type": "markdown",
      "metadata": {
        "id": "qePF-1g8hP9p",
        "colab_type": "text"
      },
      "source": [
        "## Імпорт бібліотек та пакетів"
      ]
    },
    {
      "cell_type": "markdown",
      "metadata": {
        "id": "k8L5yTEahP9q",
        "colab_type": "text"
      },
      "source": [
        "Завантажуємо бібліотеку numpy та використаємо скорочення np."
      ]
    },
    {
      "cell_type": "code",
      "metadata": {
        "id": "_LWwwTK6hP9r",
        "colab_type": "code",
        "colab": {}
      },
      "source": [
        "import numpy as np"
      ],
      "execution_count": 0,
      "outputs": []
    },
    {
      "cell_type": "markdown",
      "metadata": {
        "id": "K1L_2FzIhP9v",
        "colab_type": "text"
      },
      "source": [
        "## Створеня масиву"
      ]
    },
    {
      "cell_type": "markdown",
      "metadata": {
        "id": "ELxmXjtShP9w",
        "colab_type": "text"
      },
      "source": [
        "Існує кілька способів створення масивів.\n",
        "Наприклад, можливе створення масиву зі звичайного списку Python або за допомогою функції масиву. Тип отриманого масиву обирається відповідно до типу елементів у послідовностях."
      ]
    },
    {
      "cell_type": "code",
      "metadata": {
        "id": "kPZpQzwghP9x",
        "colab_type": "code",
        "colab": {},
        "outputId": "d0f72167-632a-4eac-9269-55f1c90c8074"
      },
      "source": [
        "a = np.array([2,3,4])\n",
        "a"
      ],
      "execution_count": 0,
      "outputs": [
        {
          "output_type": "execute_result",
          "data": {
            "text/plain": [
              "array([2, 3, 4])"
            ]
          },
          "metadata": {
            "tags": []
          },
          "execution_count": 2
        }
      ]
    },
    {
      "cell_type": "markdown",
      "metadata": {
        "id": "GQJGXSCLhP91",
        "colab_type": "text"
      },
      "source": [
        "#### Друк типу масиву"
      ]
    },
    {
      "cell_type": "code",
      "metadata": {
        "id": "Mt1jsmlKhP92",
        "colab_type": "code",
        "colab": {},
        "outputId": "226f927d-f72e-4c1e-b5a3-ab418209881a"
      },
      "source": [
        "a.dtype"
      ],
      "execution_count": 0,
      "outputs": [
        {
          "output_type": "execute_result",
          "data": {
            "text/plain": [
              "dtype('int64')"
            ]
          },
          "metadata": {
            "tags": []
          },
          "execution_count": 3
        }
      ]
    },
    {
      "cell_type": "code",
      "metadata": {
        "id": "MDcBPuAehP96",
        "colab_type": "code",
        "colab": {},
        "outputId": "de5e63c9-2e05-442a-ab67-9e8bd8094173"
      },
      "source": [
        "b = np.array([1.2, 3.5, 5.1])\n",
        "b.dtype"
      ],
      "execution_count": 0,
      "outputs": [
        {
          "output_type": "execute_result",
          "data": {
            "text/plain": [
              "dtype('float64')"
            ]
          },
          "metadata": {
            "tags": []
          },
          "execution_count": 4
        }
      ]
    },
    {
      "cell_type": "markdown",
      "metadata": {
        "id": "KrwoMAxehP9-",
        "colab_type": "text"
      },
      "source": [
        "#### Часта помилка полягає у виклику масиву з кількома числовими аргументами, а не в наданні єдиного списку чисел як аргументу."
      ]
    },
    {
      "cell_type": "code",
      "metadata": {
        "id": "Yo9VGVG0hP9_",
        "colab_type": "code",
        "colab": {},
        "outputId": "33efab73-6f3c-4ad2-c14d-5caa0543cd2a"
      },
      "source": [
        "a = np.array(1,2,3,4)    # ПОМИЛКА"
      ],
      "execution_count": 0,
      "outputs": [
        {
          "output_type": "error",
          "ename": "ValueError",
          "evalue": "only 2 non-keyword arguments accepted",
          "traceback": [
            "\u001b[0;31m---------------------------------------------------------------------------\u001b[0m",
            "\u001b[0;31mValueError\u001b[0m                                Traceback (most recent call last)",
            "\u001b[0;32m<ipython-input-5-341b73b3abe4>\u001b[0m in \u001b[0;36m<module>\u001b[0;34m()\u001b[0m\n\u001b[0;32m----> 1\u001b[0;31m \u001b[0ma\u001b[0m \u001b[0;34m=\u001b[0m \u001b[0mnp\u001b[0m\u001b[0;34m.\u001b[0m\u001b[0marray\u001b[0m\u001b[0;34m(\u001b[0m\u001b[0;36m1\u001b[0m\u001b[0;34m,\u001b[0m\u001b[0;36m2\u001b[0m\u001b[0;34m,\u001b[0m\u001b[0;36m3\u001b[0m\u001b[0;34m,\u001b[0m\u001b[0;36m4\u001b[0m\u001b[0;34m)\u001b[0m    \u001b[0;31m# ПОМИЛКА\u001b[0m\u001b[0;34m\u001b[0m\u001b[0;34m\u001b[0m\u001b[0m\n\u001b[0m",
            "\u001b[0;31mValueError\u001b[0m: only 2 non-keyword arguments accepted"
          ]
        }
      ]
    },
    {
      "cell_type": "code",
      "metadata": {
        "id": "UKgqle9chP-C",
        "colab_type": "code",
        "colab": {},
        "outputId": "f2eac99a-70d8-4639-eeef-00e046eb8a5d"
      },
      "source": [
        "a = np.array([1,2,3,4])  # ВІРНО\n",
        "a"
      ],
      "execution_count": 0,
      "outputs": [
        {
          "output_type": "execute_result",
          "data": {
            "text/plain": [
              "array([1, 2, 3, 4])"
            ]
          },
          "metadata": {
            "tags": []
          },
          "execution_count": 6
        }
      ]
    },
    {
      "cell_type": "markdown",
      "metadata": {
        "id": "4WLTWDuPhP-F",
        "colab_type": "text"
      },
      "source": [
        "Також можливе створення багатовимірних масивів"
      ]
    },
    {
      "cell_type": "code",
      "metadata": {
        "id": "2ml7zQOohP-G",
        "colab_type": "code",
        "colab": {},
        "outputId": "11cdb570-98e8-47c6-bb81-54f723afc4ca"
      },
      "source": [
        "b = np.array([(1.5,2,3), (4,5,6)])\n",
        "b"
      ],
      "execution_count": 0,
      "outputs": [
        {
          "output_type": "execute_result",
          "data": {
            "text/plain": [
              "array([[1.5, 2. , 3. ],\n",
              "       [4. , 5. , 6. ]])"
            ]
          },
          "metadata": {
            "tags": []
          },
          "execution_count": 7
        }
      ]
    },
    {
      "cell_type": "markdown",
      "metadata": {
        "id": "mUbo5ZqghP-K",
        "colab_type": "text"
      },
      "source": [
        "Тип масиву також може бути явно вказаний під час створення:"
      ]
    },
    {
      "cell_type": "code",
      "metadata": {
        "id": "jUZl5JiahP-K",
        "colab_type": "code",
        "colab": {},
        "outputId": "a51c0fe5-bb3f-48c3-d15c-39d8001f685e"
      },
      "source": [
        "c = np.array( [ [1,2], [3,4] ], dtype=complex )\n",
        "c"
      ],
      "execution_count": 0,
      "outputs": [
        {
          "output_type": "execute_result",
          "data": {
            "text/plain": [
              "array([[1.+0.j, 2.+0.j],\n",
              "       [3.+0.j, 4.+0.j]])"
            ]
          },
          "metadata": {
            "tags": []
          },
          "execution_count": 8
        }
      ]
    },
    {
      "cell_type": "markdown",
      "metadata": {
        "id": "SE052NythP-N",
        "colab_type": "text"
      },
      "source": [
        "Часто елементи масиву спочатку невідомі, але його розмір відомий. Отже, NumPy пропонує кілька функцій для створення масивів з початковим вмістом.\n",
        "\n",
        "**np.zeros()** створює масив, заповнений нулями, **np.ones()** створюють масив, повний одиниць, а функція **np.empty()** створює масив, початковий вміст якого є випадковим і залежить від стану пам'яті. За замовчуванням типом створеного масиву є float64."
      ]
    },
    {
      "cell_type": "code",
      "metadata": {
        "id": "ZiRNW5YdhP-R",
        "colab_type": "code",
        "colab": {},
        "outputId": "7a961040-142d-4f5c-c956-6172bb205406"
      },
      "source": [
        "np.zeros((3,4))"
      ],
      "execution_count": 0,
      "outputs": [
        {
          "output_type": "execute_result",
          "data": {
            "text/plain": [
              "array([[0., 0., 0., 0.],\n",
              "       [0., 0., 0., 0.],\n",
              "       [0., 0., 0., 0.]])"
            ]
          },
          "metadata": {
            "tags": []
          },
          "execution_count": 9
        }
      ]
    },
    {
      "cell_type": "code",
      "metadata": {
        "id": "ggc3629ohP-T",
        "colab_type": "code",
        "colab": {},
        "outputId": "de52096a-ef28-4516-8ab1-369cec70a107"
      },
      "source": [
        "np.ones((2,3,4), dtype=np.int16) "
      ],
      "execution_count": 0,
      "outputs": [
        {
          "output_type": "execute_result",
          "data": {
            "text/plain": [
              "array([[[1, 1, 1, 1],\n",
              "        [1, 1, 1, 1],\n",
              "        [1, 1, 1, 1]],\n",
              "\n",
              "       [[1, 1, 1, 1],\n",
              "        [1, 1, 1, 1],\n",
              "        [1, 1, 1, 1]]], dtype=int16)"
            ]
          },
          "metadata": {
            "tags": []
          },
          "execution_count": 10
        }
      ]
    },
    {
      "cell_type": "code",
      "metadata": {
        "id": "F1ME_r27hP-W",
        "colab_type": "code",
        "colab": {},
        "outputId": "a94ffae0-f728-4f19-d121-932b5908cb18"
      },
      "source": [
        "np.empty((2,3)) "
      ],
      "execution_count": 0,
      "outputs": [
        {
          "output_type": "execute_result",
          "data": {
            "text/plain": [
              "array([[1.5, 2. , 3. ],\n",
              "       [4. , 5. , 6. ]])"
            ]
          },
          "metadata": {
            "tags": []
          },
          "execution_count": 11
        }
      ]
    },
    {
      "cell_type": "markdown",
      "metadata": {
        "id": "_Xk4h7Y8hP-Z",
        "colab_type": "text"
      },
      "source": [
        "Коли використовується ранжування чисел із плаваючою точкою, як правило, неможливо передбачити кількість одержаних елементів через точність кінцевої плаваючої точки. З цієї причини, як правило, краще використовувати функцію **np.linspace**, яка отримує в якості аргументу кількість потрібних нам елементів, а не крок:"
      ]
    },
    {
      "cell_type": "code",
      "metadata": {
        "id": "kSSIE_gqhP-a",
        "colab_type": "code",
        "colab": {},
        "outputId": "e1d68168-b34a-4316-87d9-e43c679f89d2"
      },
      "source": [
        "from numpy import pi\n",
        "np.linspace(0, 2, 9)                 # 9 чисел від 0 до 2"
      ],
      "execution_count": 0,
      "outputs": [
        {
          "output_type": "execute_result",
          "data": {
            "text/plain": [
              "array([0.  , 0.25, 0.5 , 0.75, 1.  , 1.25, 1.5 , 1.75, 2.  ])"
            ]
          },
          "metadata": {
            "tags": []
          },
          "execution_count": 12
        }
      ]
    },
    {
      "cell_type": "code",
      "metadata": {
        "id": "N_g2HdkjhP-d",
        "colab_type": "code",
        "colab": {}
      },
      "source": [
        "x = np.linspace(0, 2*pi, 100)        \n",
        "f = np.sin(x)"
      ],
      "execution_count": 0,
      "outputs": []
    },
    {
      "cell_type": "markdown",
      "metadata": {
        "id": "UfIWOtGUhP-g",
        "colab_type": "text"
      },
      "source": [
        "### Виведення масиву"
      ]
    },
    {
      "cell_type": "code",
      "metadata": {
        "id": "azwZCgrohP-h",
        "colab_type": "code",
        "colab": {},
        "outputId": "ddf06bba-9557-4087-8ec3-bf1ff0e73065"
      },
      "source": [
        "a = np.arange(6)                         # 1-мірний масив\n",
        "print(a)"
      ],
      "execution_count": 0,
      "outputs": [
        {
          "output_type": "stream",
          "text": [
            "[0 1 2 3 4 5]\n"
          ],
          "name": "stdout"
        }
      ]
    },
    {
      "cell_type": "code",
      "metadata": {
        "id": "QH38VQmrhP-j",
        "colab_type": "code",
        "colab": {},
        "outputId": "e916346d-99f6-4001-c480-e12cf802e90b"
      },
      "source": [
        "b = np.arange(12).reshape(4,3)           # 2-мірний масив\n",
        "print(b)"
      ],
      "execution_count": 0,
      "outputs": [
        {
          "output_type": "stream",
          "text": [
            "[[ 0  1  2]\n",
            " [ 3  4  5]\n",
            " [ 6  7  8]\n",
            " [ 9 10 11]]\n"
          ],
          "name": "stdout"
        }
      ]
    },
    {
      "cell_type": "code",
      "metadata": {
        "id": "iOiiiuZGhP-m",
        "colab_type": "code",
        "colab": {},
        "outputId": "069e64dd-e634-4289-ca46-57f0824e8a38"
      },
      "source": [
        "c = np.arange(24).reshape(2,3,4)         # 3-мірний масив\n",
        "print(c)"
      ],
      "execution_count": 0,
      "outputs": [
        {
          "output_type": "stream",
          "text": [
            "[[[ 0  1  2  3]\n",
            "  [ 4  5  6  7]\n",
            "  [ 8  9 10 11]]\n",
            "\n",
            " [[12 13 14 15]\n",
            "  [16 17 18 19]\n",
            "  [20 21 22 23]]]\n"
          ],
          "name": "stdout"
        }
      ]
    },
    {
      "cell_type": "markdown",
      "metadata": {
        "id": "soAgLAY2hP-p",
        "colab_type": "text"
      },
      "source": [
        "### Базові операції"
      ]
    },
    {
      "cell_type": "markdown",
      "metadata": {
        "id": "C1N4MJDPhP-q",
        "colab_type": "text"
      },
      "source": [
        "Арифметичні оператори на масивах застосовуються по елементно. Створюється новий масив і заповнюється результатом."
      ]
    },
    {
      "cell_type": "code",
      "metadata": {
        "id": "pJnaVu3YhP-r",
        "colab_type": "code",
        "colab": {},
        "outputId": "5ae80135-e34c-4ce8-d6dd-3c09c2d8834f"
      },
      "source": [
        "a = np.array( [20,30,40,50] )\n",
        "b = np.arange( 4 )\n",
        "b"
      ],
      "execution_count": 0,
      "outputs": [
        {
          "output_type": "execute_result",
          "data": {
            "text/plain": [
              "array([0, 1, 2, 3])"
            ]
          },
          "metadata": {
            "tags": []
          },
          "execution_count": 17
        }
      ]
    },
    {
      "cell_type": "code",
      "metadata": {
        "id": "WdoVOIt0hP-t",
        "colab_type": "code",
        "colab": {},
        "outputId": "d0812c09-aaaa-41fb-c6f5-8527b8126db6"
      },
      "source": [
        "c = a-b\n",
        "c"
      ],
      "execution_count": 0,
      "outputs": [
        {
          "output_type": "execute_result",
          "data": {
            "text/plain": [
              "array([20, 29, 38, 47])"
            ]
          },
          "metadata": {
            "tags": []
          },
          "execution_count": 18
        }
      ]
    },
    {
      "cell_type": "markdown",
      "metadata": {
        "id": "UhMhWsf8hP-w",
        "colab_type": "text"
      },
      "source": [
        "#### Зведення в ступінь"
      ]
    },
    {
      "cell_type": "code",
      "metadata": {
        "id": "VXfvc9z2hP-x",
        "colab_type": "code",
        "colab": {},
        "outputId": "c499f2b1-05df-41d8-bebc-f427292f1df0"
      },
      "source": [
        "b**2"
      ],
      "execution_count": 0,
      "outputs": [
        {
          "output_type": "execute_result",
          "data": {
            "text/plain": [
              "array([0, 1, 4, 9])"
            ]
          },
          "metadata": {
            "tags": []
          },
          "execution_count": 19
        }
      ]
    },
    {
      "cell_type": "markdown",
      "metadata": {
        "id": "LrsqQosvhP-z",
        "colab_type": "text"
      },
      "source": [
        "#### Множення"
      ]
    },
    {
      "cell_type": "code",
      "metadata": {
        "id": "tJhtO9aWhP-0",
        "colab_type": "code",
        "colab": {},
        "outputId": "b7e49d1c-c6a5-4a2f-b0f2-0300f2fdd6a5"
      },
      "source": [
        "10*np.sin(a)"
      ],
      "execution_count": 0,
      "outputs": [
        {
          "output_type": "execute_result",
          "data": {
            "text/plain": [
              "array([ 9.12945251, -9.88031624,  7.4511316 , -2.62374854])"
            ]
          },
          "metadata": {
            "tags": []
          },
          "execution_count": 20
        }
      ]
    },
    {
      "cell_type": "markdown",
      "metadata": {
        "id": "aLbyAVwMhP-2",
        "colab_type": "text"
      },
      "source": [
        "#### Нерівність"
      ]
    },
    {
      "cell_type": "code",
      "metadata": {
        "id": "VeLYIGKXhP-3",
        "colab_type": "code",
        "colab": {},
        "outputId": "36a600ee-d4b6-407c-d555-41c73a571c45"
      },
      "source": [
        "a<35"
      ],
      "execution_count": 0,
      "outputs": [
        {
          "output_type": "execute_result",
          "data": {
            "text/plain": [
              "array([ True,  True, False, False])"
            ]
          },
          "metadata": {
            "tags": []
          },
          "execution_count": 21
        }
      ]
    },
    {
      "cell_type": "markdown",
      "metadata": {
        "id": "ivlZ57cfhP-6",
        "colab_type": "text"
      },
      "source": [
        "На відміну від багатьох матричних мов програмування, оператор множення $*$ працює по елементно в масивах NumPy. Матричне множення можна виконати за допомогою оператора **@** або методу **dot**:"
      ]
    },
    {
      "cell_type": "code",
      "metadata": {
        "id": "_ikqAg_zhP-7",
        "colab_type": "code",
        "colab": {}
      },
      "source": [
        "A = np.array([[1,1],\n",
        "              [0,1]] )\n",
        "\n",
        "B = np.array([[2,0],\n",
        "              [3,4]] )"
      ],
      "execution_count": 0,
      "outputs": []
    },
    {
      "cell_type": "markdown",
      "metadata": {
        "id": "UMw7CUMIhP-9",
        "colab_type": "text"
      },
      "source": [
        "По елементне множення"
      ]
    },
    {
      "cell_type": "code",
      "metadata": {
        "id": "_UmVUU-jhP--",
        "colab_type": "code",
        "colab": {},
        "outputId": "398f658d-bc3a-488f-c2b9-eca271c65eff"
      },
      "source": [
        "A * B                       "
      ],
      "execution_count": 0,
      "outputs": [
        {
          "output_type": "execute_result",
          "data": {
            "text/plain": [
              "array([[2, 0],\n",
              "       [0, 4]])"
            ]
          },
          "metadata": {
            "tags": []
          },
          "execution_count": 23
        }
      ]
    },
    {
      "cell_type": "markdown",
      "metadata": {
        "id": "LO-slCY1hP_B",
        "colab_type": "text"
      },
      "source": [
        "Матричне множення"
      ]
    },
    {
      "cell_type": "code",
      "metadata": {
        "id": "E3nkhucdhP_B",
        "colab_type": "code",
        "colab": {},
        "outputId": "483599ec-5b6b-4bf3-e394-9a1d16ef542f"
      },
      "source": [
        "A @ B                     "
      ],
      "execution_count": 0,
      "outputs": [
        {
          "output_type": "execute_result",
          "data": {
            "text/plain": [
              "array([[5, 4],\n",
              "       [3, 4]])"
            ]
          },
          "metadata": {
            "tags": []
          },
          "execution_count": 24
        }
      ]
    },
    {
      "cell_type": "markdown",
      "metadata": {
        "id": "fmzlEFdxhP_E",
        "colab_type": "text"
      },
      "source": [
        "Матричне множення"
      ]
    },
    {
      "cell_type": "code",
      "metadata": {
        "id": "8pxMsUtqhP_F",
        "colab_type": "code",
        "colab": {},
        "outputId": "31db4ff2-6193-4e41-9585-31d043339922"
      },
      "source": [
        "A.dot(B)"
      ],
      "execution_count": 0,
      "outputs": [
        {
          "output_type": "execute_result",
          "data": {
            "text/plain": [
              "array([[5, 4],\n",
              "       [3, 4]])"
            ]
          },
          "metadata": {
            "tags": []
          },
          "execution_count": 25
        }
      ]
    },
    {
      "cell_type": "markdown",
      "metadata": {
        "id": "oUpCK_OYhP_I",
        "colab_type": "text"
      },
      "source": [
        "Багато унарних операцій, таких як обчислення суми всіх елементів масиву, реалізовані як методи класу ndarray."
      ]
    },
    {
      "cell_type": "code",
      "metadata": {
        "id": "0r2YuVSxhP_I",
        "colab_type": "code",
        "colab": {},
        "outputId": "b409b9f5-e8d8-44c7-b899-c51645334be0"
      },
      "source": [
        "a = np.random.random((2,3))\n",
        "a"
      ],
      "execution_count": 0,
      "outputs": [
        {
          "output_type": "execute_result",
          "data": {
            "text/plain": [
              "array([[0.8807238 , 0.80954498, 0.4363596 ],\n",
              "       [0.31225657, 0.15228422, 0.57718236]])"
            ]
          },
          "metadata": {
            "tags": []
          },
          "execution_count": 26
        }
      ]
    },
    {
      "cell_type": "markdown",
      "metadata": {
        "id": "cFKqthichP_L",
        "colab_type": "text"
      },
      "source": [
        "Сумування елементів масиву"
      ]
    },
    {
      "cell_type": "code",
      "metadata": {
        "id": "B5HR4AbBhP_M",
        "colab_type": "code",
        "colab": {},
        "outputId": "da8ddba2-9c5f-47d0-b56b-5a5a70d87c83"
      },
      "source": [
        "a.sum()"
      ],
      "execution_count": 0,
      "outputs": [
        {
          "output_type": "execute_result",
          "data": {
            "text/plain": [
              "3.168351538476806"
            ]
          },
          "metadata": {
            "tags": []
          },
          "execution_count": 27
        }
      ]
    },
    {
      "cell_type": "markdown",
      "metadata": {
        "id": "S9XqPV8FhP_O",
        "colab_type": "text"
      },
      "source": [
        "Визначення мінімального значення"
      ]
    },
    {
      "cell_type": "code",
      "metadata": {
        "id": "IO5JI_zphP_P",
        "colab_type": "code",
        "colab": {},
        "outputId": "48a19c65-fc35-4892-8a9f-fb31287108ef"
      },
      "source": [
        "a.min()"
      ],
      "execution_count": 0,
      "outputs": [
        {
          "output_type": "execute_result",
          "data": {
            "text/plain": [
              "0.15228422498698901"
            ]
          },
          "metadata": {
            "tags": []
          },
          "execution_count": 28
        }
      ]
    },
    {
      "cell_type": "markdown",
      "metadata": {
        "id": "5MRbLihShP_R",
        "colab_type": "text"
      },
      "source": [
        "Визначення максимального значення"
      ]
    },
    {
      "cell_type": "code",
      "metadata": {
        "id": "g2pGG0IxhP_S",
        "colab_type": "code",
        "colab": {},
        "outputId": "b0497486-7385-4381-ccf1-be3a23712e8e"
      },
      "source": [
        "a.max()"
      ],
      "execution_count": 0,
      "outputs": [
        {
          "output_type": "execute_result",
          "data": {
            "text/plain": [
              "0.8807238047576498"
            ]
          },
          "metadata": {
            "tags": []
          },
          "execution_count": 29
        }
      ]
    },
    {
      "cell_type": "markdown",
      "metadata": {
        "id": "2gAABGAXhP_U",
        "colab_type": "text"
      },
      "source": [
        "#### Робота із рядками та стовпцями"
      ]
    },
    {
      "cell_type": "code",
      "metadata": {
        "id": "5qrtPgl6hP_U",
        "colab_type": "code",
        "colab": {},
        "outputId": "a05d7eb2-2a55-468a-8c90-9463c6a7ecc8"
      },
      "source": [
        "b = np.arange(12).reshape(3,4)\n",
        "b"
      ],
      "execution_count": 0,
      "outputs": [
        {
          "output_type": "execute_result",
          "data": {
            "text/plain": [
              "array([[ 0,  1,  2,  3],\n",
              "       [ 4,  5,  6,  7],\n",
              "       [ 8,  9, 10, 11]])"
            ]
          },
          "metadata": {
            "tags": []
          },
          "execution_count": 30
        }
      ]
    },
    {
      "cell_type": "markdown",
      "metadata": {
        "id": "2ToDJg4JhP_X",
        "colab_type": "text"
      },
      "source": [
        "Сумування кожного стовпця"
      ]
    },
    {
      "cell_type": "code",
      "metadata": {
        "id": "rUHGwOArhP_X",
        "colab_type": "code",
        "colab": {},
        "outputId": "ebb411df-3e5a-43f6-b8d3-cc7a2d1c3cbf"
      },
      "source": [
        "b.sum(axis=0)                       "
      ],
      "execution_count": 0,
      "outputs": [
        {
          "output_type": "execute_result",
          "data": {
            "text/plain": [
              "array([12, 15, 18, 21])"
            ]
          },
          "metadata": {
            "tags": []
          },
          "execution_count": 31
        }
      ]
    },
    {
      "cell_type": "markdown",
      "metadata": {
        "id": "P9PNasYWhP_Z",
        "colab_type": "text"
      },
      "source": [
        "Мінімальні елементи в кожному стовпці"
      ]
    },
    {
      "cell_type": "code",
      "metadata": {
        "id": "ysjIKyQ7hP_a",
        "colab_type": "code",
        "colab": {},
        "outputId": "794c3941-8fd2-4bc2-df61-e1f79ed179ae"
      },
      "source": [
        "b.min(axis=0)                          "
      ],
      "execution_count": 0,
      "outputs": [
        {
          "output_type": "execute_result",
          "data": {
            "text/plain": [
              "array([0, 1, 2, 3])"
            ]
          },
          "metadata": {
            "tags": []
          },
          "execution_count": 32
        }
      ]
    },
    {
      "cell_type": "markdown",
      "metadata": {
        "id": "waoV3ZSQhP_f",
        "colab_type": "text"
      },
      "source": [
        "Максимальні елементи в кожному рядку"
      ]
    },
    {
      "cell_type": "code",
      "metadata": {
        "id": "sa5yd8WzhP_g",
        "colab_type": "code",
        "colab": {},
        "outputId": "7b548efd-966f-4433-96ae-147fc639630c"
      },
      "source": [
        "b.max(axis=1)  "
      ],
      "execution_count": 0,
      "outputs": [
        {
          "output_type": "execute_result",
          "data": {
            "text/plain": [
              "array([ 3,  7, 11])"
            ]
          },
          "metadata": {
            "tags": []
          },
          "execution_count": 33
        }
      ]
    },
    {
      "cell_type": "markdown",
      "metadata": {
        "id": "0yjJIZzphP_k",
        "colab_type": "text"
      },
      "source": [
        "### Індексування масивів"
      ]
    },
    {
      "cell_type": "code",
      "metadata": {
        "id": "5QjkfcnChP_l",
        "colab_type": "code",
        "colab": {},
        "outputId": "2fc82642-982f-43dc-eda5-10167dc5cb60"
      },
      "source": [
        "a = np.arange(10)**3\n",
        "a"
      ],
      "execution_count": 0,
      "outputs": [
        {
          "output_type": "execute_result",
          "data": {
            "text/plain": [
              "array([  0,   1,   8,  27,  64, 125, 216, 343, 512, 729])"
            ]
          },
          "metadata": {
            "tags": []
          },
          "execution_count": 34
        }
      ]
    },
    {
      "cell_type": "markdown",
      "metadata": {
        "id": "6fiVMebchP_n",
        "colab_type": "text"
      },
      "source": [
        "Доступ до довільного елементу масиву"
      ]
    },
    {
      "cell_type": "code",
      "metadata": {
        "id": "zVHuFhmphP_o",
        "colab_type": "code",
        "colab": {},
        "outputId": "21cbf15c-505a-4f3a-d932-b90cfbbc3a0c"
      },
      "source": [
        "a[2]"
      ],
      "execution_count": 0,
      "outputs": [
        {
          "output_type": "execute_result",
          "data": {
            "text/plain": [
              "8"
            ]
          },
          "metadata": {
            "tags": []
          },
          "execution_count": 35
        }
      ]
    },
    {
      "cell_type": "markdown",
      "metadata": {
        "id": "MatTZHy2hP_t",
        "colab_type": "text"
      },
      "source": [
        "Доступ до декількох елементів масиву в зазначених межах"
      ]
    },
    {
      "cell_type": "code",
      "metadata": {
        "id": "gD7Qa3AfhP_t",
        "colab_type": "code",
        "colab": {},
        "outputId": "e776b979-5146-4cef-a36b-224ef63efe58"
      },
      "source": [
        "a[2:5]"
      ],
      "execution_count": 0,
      "outputs": [
        {
          "output_type": "execute_result",
          "data": {
            "text/plain": [
              "array([ 8, 27, 64])"
            ]
          },
          "metadata": {
            "tags": []
          },
          "execution_count": 36
        }
      ]
    },
    {
      "cell_type": "markdown",
      "metadata": {
        "id": "GLJ_dGBhhP_v",
        "colab_type": "text"
      },
      "source": [
        "Ітеративна заміна значень масиву\n",
        "Зі стартової позиції 6 замінити кожен другий елемент на -1000"
      ]
    },
    {
      "cell_type": "code",
      "metadata": {
        "id": "dkA-vT3WhP_w",
        "colab_type": "code",
        "colab": {},
        "outputId": "b1a2ef16-f5a2-452b-aeba-4cce85deeb05"
      },
      "source": [
        "a[:6:2] = -1000\n",
        "a"
      ],
      "execution_count": 0,
      "outputs": [
        {
          "output_type": "execute_result",
          "data": {
            "text/plain": [
              "array([-1000,     1, -1000,    27, -1000,   125,   216,   343,   512,\n",
              "         729])"
            ]
          },
          "metadata": {
            "tags": []
          },
          "execution_count": 37
        }
      ]
    },
    {
      "cell_type": "markdown",
      "metadata": {
        "id": "eP6usdWYhP_y",
        "colab_type": "text"
      },
      "source": [
        "Реверс масиву"
      ]
    },
    {
      "cell_type": "code",
      "metadata": {
        "id": "xdzS6ZLChP_0",
        "colab_type": "code",
        "colab": {},
        "outputId": "213520be-14de-4802-98e2-15c5f96379e8"
      },
      "source": [
        "a[ : :-1]                               "
      ],
      "execution_count": 0,
      "outputs": [
        {
          "output_type": "execute_result",
          "data": {
            "text/plain": [
              "array([  729,   512,   343,   216,   125, -1000,    27, -1000,     1,\n",
              "       -1000])"
            ]
          },
          "metadata": {
            "tags": []
          },
          "execution_count": 38
        }
      ]
    },
    {
      "cell_type": "markdown",
      "metadata": {
        "id": "7xN9-G0ChP_3",
        "colab_type": "text"
      },
      "source": [
        "Доступ до елментів масиву через цикл"
      ]
    },
    {
      "cell_type": "code",
      "metadata": {
        "id": "G-hlYlXMhP_3",
        "colab_type": "code",
        "colab": {},
        "outputId": "6d52238a-1ff1-4756-fab6-b66b42098241"
      },
      "source": [
        "for i in a:\n",
        "    print(\"%1.0f\" % (i**(1/3.)))"
      ],
      "execution_count": 0,
      "outputs": [
        {
          "output_type": "stream",
          "text": [
            "nan\n",
            "1\n",
            "nan\n",
            "3\n",
            "nan\n",
            "5\n",
            "6\n",
            "7\n",
            "8\n",
            "9\n"
          ],
          "name": "stdout"
        },
        {
          "output_type": "stream",
          "text": [
            "/home/svs/myenv/lib/python3.6/site-packages/ipykernel_launcher.py:2: RuntimeWarning: invalid value encountered in power\n",
            "  \n"
          ],
          "name": "stderr"
        }
      ]
    },
    {
      "cell_type": "markdown",
      "metadata": {
        "id": "RtHD1PXWhP_5",
        "colab_type": "text"
      },
      "source": [
        "### Зміна розмірноста (\"форми\") масиву"
      ]
    },
    {
      "cell_type": "markdown",
      "metadata": {
        "id": "T3bokpUghP_6",
        "colab_type": "text"
      },
      "source": [
        "За допомогою функції **np.floor**, яка округлює число до цілого створимо масив із віипадковими числами."
      ]
    },
    {
      "cell_type": "code",
      "metadata": {
        "id": "FQlthNuQhP_6",
        "colab_type": "code",
        "colab": {},
        "outputId": "a6f81fe3-8fc7-4a07-e406-0bdeff511664"
      },
      "source": [
        "a = np.floor(10*np.random.random((3,4)))\n",
        "a"
      ],
      "execution_count": 0,
      "outputs": [
        {
          "output_type": "execute_result",
          "data": {
            "text/plain": [
              "array([[1., 9., 9., 0.],\n",
              "       [4., 9., 2., 5.],\n",
              "       [6., 4., 0., 8.]])"
            ]
          },
          "metadata": {
            "tags": []
          },
          "execution_count": 40
        }
      ]
    },
    {
      "cell_type": "markdown",
      "metadata": {
        "id": "W5e4vboBhP_8",
        "colab_type": "text"
      },
      "source": [
        "Визначення розмірності масиву"
      ]
    },
    {
      "cell_type": "code",
      "metadata": {
        "id": "zr95BObBhP_9",
        "colab_type": "code",
        "colab": {},
        "outputId": "59f3c198-dace-474b-e7f4-14380b75a631"
      },
      "source": [
        "a.shape"
      ],
      "execution_count": 0,
      "outputs": [
        {
          "output_type": "execute_result",
          "data": {
            "text/plain": [
              "(3, 4)"
            ]
          },
          "metadata": {
            "tags": []
          },
          "execution_count": 41
        }
      ]
    },
    {
      "cell_type": "markdown",
      "metadata": {
        "id": "6ZGu8OOGhQAA",
        "colab_type": "text"
      },
      "source": [
        "Форму масиву можна змінювати за допомогою різних команд. Зауважте, що всі наступні три команди повертають модифікований масив, але не змінюють початковий масив:"
      ]
    },
    {
      "cell_type": "markdown",
      "metadata": {
        "id": "DmveeSeohQAA",
        "colab_type": "text"
      },
      "source": [
        "Функція **ravel()** перетворює багатовимірний масив в одновимірний"
      ]
    },
    {
      "cell_type": "code",
      "metadata": {
        "id": "E3wJ1kWvhQAB",
        "colab_type": "code",
        "colab": {},
        "outputId": "0292a613-0111-4196-ea79-268b6737b842"
      },
      "source": [
        "a.ravel()  "
      ],
      "execution_count": 0,
      "outputs": [
        {
          "output_type": "execute_result",
          "data": {
            "text/plain": [
              "array([1., 9., 9., 0., 4., 9., 2., 5., 6., 4., 0., 8.])"
            ]
          },
          "metadata": {
            "tags": []
          },
          "execution_count": 42
        }
      ]
    },
    {
      "cell_type": "markdown",
      "metadata": {
        "id": "olbd-7kbhQAD",
        "colab_type": "text"
      },
      "source": [
        "Функція **reshape()** змінює форму масиву на задану"
      ]
    },
    {
      "cell_type": "code",
      "metadata": {
        "id": "WpiLPaJchQAD",
        "colab_type": "code",
        "colab": {},
        "outputId": "8a423b0b-11ba-425f-d047-4b9ca64adf0b"
      },
      "source": [
        "a.reshape(6,2)  "
      ],
      "execution_count": 0,
      "outputs": [
        {
          "output_type": "execute_result",
          "data": {
            "text/plain": [
              "array([[1., 9.],\n",
              "       [9., 0.],\n",
              "       [4., 9.],\n",
              "       [2., 5.],\n",
              "       [6., 4.],\n",
              "       [0., 8.]])"
            ]
          },
          "metadata": {
            "tags": []
          },
          "execution_count": 43
        }
      ]
    },
    {
      "cell_type": "markdown",
      "metadata": {
        "id": "Qy09CtGKhQAF",
        "colab_type": "text"
      },
      "source": [
        "Транспонування масиву"
      ]
    },
    {
      "cell_type": "code",
      "metadata": {
        "id": "WFOE6J7KhQAG",
        "colab_type": "code",
        "colab": {},
        "outputId": "ef218c68-b9f6-4cc7-d56a-44d28ddacb98"
      },
      "source": [
        "a.T"
      ],
      "execution_count": 0,
      "outputs": [
        {
          "output_type": "execute_result",
          "data": {
            "text/plain": [
              "array([[1., 4., 6.],\n",
              "       [9., 9., 4.],\n",
              "       [9., 2., 0.],\n",
              "       [0., 5., 8.]])"
            ]
          },
          "metadata": {
            "tags": []
          },
          "execution_count": 44
        }
      ]
    },
    {
      "cell_type": "markdown",
      "metadata": {
        "id": "XXAXshW-hQAK",
        "colab_type": "text"
      },
      "source": [
        "Визначення розмірності транспонованого масиву"
      ]
    },
    {
      "cell_type": "code",
      "metadata": {
        "id": "1hOS72SWhQAK",
        "colab_type": "code",
        "colab": {},
        "outputId": "e7f45f32-5fc7-49a3-b56f-1a1ce780dae3"
      },
      "source": [
        "a.T.shape"
      ],
      "execution_count": 0,
      "outputs": [
        {
          "output_type": "execute_result",
          "data": {
            "text/plain": [
              "(4, 3)"
            ]
          },
          "metadata": {
            "tags": []
          },
          "execution_count": 45
        }
      ]
    },
    {
      "cell_type": "markdown",
      "metadata": {
        "id": "_7yM-1zRhQAM",
        "colab_type": "text"
      },
      "source": [
        "Визначення розмірності вихідного масиву"
      ]
    },
    {
      "cell_type": "code",
      "metadata": {
        "id": "fAz4D7VzhQAM",
        "colab_type": "code",
        "colab": {},
        "outputId": "01837de3-bbfe-4cbd-b49a-74c3b6603e6a"
      },
      "source": [
        "a.shape"
      ],
      "execution_count": 0,
      "outputs": [
        {
          "output_type": "execute_result",
          "data": {
            "text/plain": [
              "(3, 4)"
            ]
          },
          "metadata": {
            "tags": []
          },
          "execution_count": 46
        }
      ]
    },
    {
      "cell_type": "markdown",
      "metadata": {
        "id": "mLlY6gS4hQAO",
        "colab_type": "text"
      },
      "source": [
        "Функція **reshape()** повертає аргумент із зміненою формою, тоді як метод **resize()** змінює сам масив:"
      ]
    },
    {
      "cell_type": "code",
      "metadata": {
        "id": "oqqkaKn7hQAO",
        "colab_type": "code",
        "colab": {},
        "outputId": "3a31e129-0ad3-469c-8e5c-384b57e0dc2b"
      },
      "source": [
        "a"
      ],
      "execution_count": 0,
      "outputs": [
        {
          "output_type": "execute_result",
          "data": {
            "text/plain": [
              "array([[1., 9., 9., 0.],\n",
              "       [4., 9., 2., 5.],\n",
              "       [6., 4., 0., 8.]])"
            ]
          },
          "metadata": {
            "tags": []
          },
          "execution_count": 47
        }
      ]
    },
    {
      "cell_type": "code",
      "metadata": {
        "id": "Crph0qU8hQAS",
        "colab_type": "code",
        "colab": {},
        "outputId": "14091cb0-fb02-49ad-8de2-d517cf92266d"
      },
      "source": [
        "a.resize((2,6))\n",
        "a"
      ],
      "execution_count": 0,
      "outputs": [
        {
          "output_type": "execute_result",
          "data": {
            "text/plain": [
              "array([[1., 9., 9., 0., 4., 9.],\n",
              "       [2., 5., 6., 4., 0., 8.]])"
            ]
          },
          "metadata": {
            "tags": []
          },
          "execution_count": 48
        }
      ]
    },
    {
      "cell_type": "markdown",
      "metadata": {
        "id": "iBWCMAYKhQAU",
        "colab_type": "text"
      },
      "source": [
        "# Завдання\n",
        "## 1. Створити двомірний нульовий масив розміром 11х11 та заповнити його діагоналі одиницями.\n",
        "\n",
        "1.1. Задати розмір масиву"
      ]
    },
    {
      "cell_type": "code",
      "metadata": {
        "id": "bfGPqXIchQAU",
        "colab_type": "code",
        "colab": {}
      },
      "source": [
        "import numpy as np\n",
        "size = 11"
      ],
      "execution_count": 0,
      "outputs": []
    },
    {
      "cell_type": "markdown",
      "metadata": {
        "id": "Cv0Bg2T1hQAW",
        "colab_type": "text"
      },
      "source": [
        "1.2. Створити нульовий масив заданого розміру"
      ]
    },
    {
      "cell_type": "code",
      "metadata": {
        "id": "8z_mx01FhQAW",
        "colab_type": "code",
        "colab": {}
      },
      "source": [
        "arr = np.zeros((size,size))"
      ],
      "execution_count": 0,
      "outputs": []
    },
    {
      "cell_type": "markdown",
      "metadata": {
        "id": "hfAhKHfthQAY",
        "colab_type": "text"
      },
      "source": [
        "1.3 Надрукувати створений масив"
      ]
    },
    {
      "cell_type": "code",
      "metadata": {
        "id": "6HaEHo4EhQAZ",
        "colab_type": "code",
        "colab": {},
        "outputId": "b18b6689-74b6-41b9-9fef-e3b290953c39"
      },
      "source": [
        "print(arr)"
      ],
      "execution_count": 0,
      "outputs": [
        {
          "output_type": "stream",
          "text": [
            "[[0. 0. 0. 0. 0. 0. 0. 0. 0. 0. 0.]\n",
            " [0. 0. 0. 0. 0. 0. 0. 0. 0. 0. 0.]\n",
            " [0. 0. 0. 0. 0. 0. 0. 0. 0. 0. 0.]\n",
            " [0. 0. 0. 0. 0. 0. 0. 0. 0. 0. 0.]\n",
            " [0. 0. 0. 0. 0. 0. 0. 0. 0. 0. 0.]\n",
            " [0. 0. 0. 0. 0. 0. 0. 0. 0. 0. 0.]\n",
            " [0. 0. 0. 0. 0. 0. 0. 0. 0. 0. 0.]\n",
            " [0. 0. 0. 0. 0. 0. 0. 0. 0. 0. 0.]\n",
            " [0. 0. 0. 0. 0. 0. 0. 0. 0. 0. 0.]\n",
            " [0. 0. 0. 0. 0. 0. 0. 0. 0. 0. 0.]\n",
            " [0. 0. 0. 0. 0. 0. 0. 0. 0. 0. 0.]]\n"
          ],
          "name": "stdout"
        }
      ]
    },
    {
      "cell_type": "markdown",
      "metadata": {
        "id": "MlO0zRJZhQAc",
        "colab_type": "text"
      },
      "source": [
        "1.4 Змінити діагоналі за допомогою двох циклів"
      ]
    },
    {
      "cell_type": "code",
      "metadata": {
        "id": "pIpHfKQahQAd",
        "colab_type": "code",
        "colab": {}
      },
      "source": [
        "for i in range(size):\n",
        "    for j in range(size):\n",
        "        if (i==j):\n",
        "            arr[i][-1-j] = 1\n",
        "            arr[i][j]=1"
      ],
      "execution_count": 0,
      "outputs": []
    },
    {
      "cell_type": "markdown",
      "metadata": {
        "id": "nnJSCzVthQAf",
        "colab_type": "text"
      },
      "source": [
        "1.5 Вивести створений масив"
      ]
    },
    {
      "cell_type": "code",
      "metadata": {
        "id": "ewk6TZQChQAf",
        "colab_type": "code",
        "colab": {},
        "outputId": "9883cc53-5fc6-4bdc-f67d-712508b1ae4b"
      },
      "source": [
        "print(arr)"
      ],
      "execution_count": 0,
      "outputs": [
        {
          "output_type": "stream",
          "text": [
            "[[1. 0. 0. 0. 0. 0. 0. 0. 0. 0. 1.]\n",
            " [0. 1. 0. 0. 0. 0. 0. 0. 0. 1. 0.]\n",
            " [0. 0. 1. 0. 0. 0. 0. 0. 1. 0. 0.]\n",
            " [0. 0. 0. 1. 0. 0. 0. 1. 0. 0. 0.]\n",
            " [0. 0. 0. 0. 1. 0. 1. 0. 0. 0. 0.]\n",
            " [0. 0. 0. 0. 0. 1. 0. 0. 0. 0. 0.]\n",
            " [0. 0. 0. 0. 1. 0. 1. 0. 0. 0. 0.]\n",
            " [0. 0. 0. 1. 0. 0. 0. 1. 0. 0. 0.]\n",
            " [0. 0. 1. 0. 0. 0. 0. 0. 1. 0. 0.]\n",
            " [0. 1. 0. 0. 0. 0. 0. 0. 0. 1. 0.]\n",
            " [1. 0. 0. 0. 0. 0. 0. 0. 0. 0. 1.]]\n"
          ],
          "name": "stdout"
        }
      ]
    },
    {
      "cell_type": "markdown",
      "metadata": {
        "id": "cgFViBJ-hQAj",
        "colab_type": "text"
      },
      "source": [
        "## 2. Засобами NumPy створити вертикальні та горизонтальні зображення градієнту в обидва боки (поступове збільшення яскравості на зображенні).\n",
        "\n",
        "Приклад зображення градієнту\n",
        "<img src=\"https://github.com/Jeyky/DIG_IP/blob/master/assignments/horizontal_grad.jpg?raw=1\" height=\"200\" width=\"200\">"
      ]
    },
    {
      "cell_type": "markdown",
      "metadata": {
        "id": "Mubeli1shQAj",
        "colab_type": "text"
      },
      "source": [
        "### Горизонтальний градієнт"
      ]
    },
    {
      "cell_type": "markdown",
      "metadata": {
        "id": "wu4ceDr_hQAk",
        "colab_type": "text"
      },
      "source": [
        "2.1 Створити нульовий масив розміром 255х255"
      ]
    },
    {
      "cell_type": "code",
      "metadata": {
        "id": "EbTEgu8rhQAk",
        "colab_type": "code",
        "colab": {}
      },
      "source": [
        "import numpy as np\n",
        "import cv2\n",
        "horizontal_gradient1 = np.zeros((255,255))"
      ],
      "execution_count": 0,
      "outputs": []
    },
    {
      "cell_type": "markdown",
      "metadata": {
        "id": "lyu799e7hQAm",
        "colab_type": "text"
      },
      "source": [
        "2.2 Визначити розміри масиву"
      ]
    },
    {
      "cell_type": "code",
      "metadata": {
        "id": "FEN1RnyLhQAm",
        "colab_type": "code",
        "colab": {}
      },
      "source": [
        "w = horizontal_gradient1.shape[1]\n",
        "h = horizontal_gradient1.shape[0]"
      ],
      "execution_count": 0,
      "outputs": []
    },
    {
      "cell_type": "markdown",
      "metadata": {
        "id": "C6NAfWbghQAp",
        "colab_type": "text"
      },
      "source": [
        "2.3 Поелементно змінити яскравості кожного пікселя"
      ]
    },
    {
      "cell_type": "code",
      "metadata": {
        "id": "hvMijRvghQAp",
        "colab_type": "code",
        "colab": {}
      },
      "source": [
        "for i in range(0,w):\n",
        "    brightness=0\n",
        "    for j in range(0,h):\n",
        "        horizontal_gradient1[i][j] = brightness\n",
        "        brightness+=1"
      ],
      "execution_count": 0,
      "outputs": []
    },
    {
      "cell_type": "markdown",
      "metadata": {
        "id": "WPxlAsU6hQAr",
        "colab_type": "text"
      },
      "source": [
        "2.4 Записати зображення засабами OpenCV"
      ]
    },
    {
      "cell_type": "code",
      "metadata": {
        "id": "IaykVKrWhQAs",
        "colab_type": "code",
        "colab": {},
        "outputId": "e1201812-fb45-4157-8e9b-d8787e674bab"
      },
      "source": [
        "cv2.imwrite('horizontal_grad1.jpg', horizontal_gradient1)"
      ],
      "execution_count": 0,
      "outputs": [
        {
          "output_type": "execute_result",
          "data": {
            "text/plain": [
              "True"
            ]
          },
          "metadata": {
            "tags": []
          },
          "execution_count": 9
        }
      ]
    },
    {
      "cell_type": "markdown",
      "metadata": {
        "id": "ZKBugI7YhQAu",
        "colab_type": "text"
      },
      "source": [
        "2.5 Аналогічно створити горизонтальний градієнт в інший бік"
      ]
    },
    {
      "cell_type": "code",
      "metadata": {
        "id": "hWUjyw5UhQAv",
        "colab_type": "code",
        "colab": {},
        "outputId": "67302d90-909f-4c13-c098-d6c699fd4a45"
      },
      "source": [
        "horizontal_gradient2 = np.zeros((255,255))\n",
        "\n",
        "w = horizontal_gradient2.shape[1]\n",
        "h = horizontal_gradient2.shape[0]\n",
        "for i in range(0,w):\n",
        "    brightness=255\n",
        "    for j in range(0,h):\n",
        "        horizontal_gradient2[i][j] =brightness\n",
        "        brightness-=1\n",
        "        \n",
        "cv2.imwrite('horizontal_grad2.jpg', horizontal_gradient2)"
      ],
      "execution_count": 0,
      "outputs": [
        {
          "output_type": "execute_result",
          "data": {
            "text/plain": [
              "True"
            ]
          },
          "metadata": {
            "tags": []
          },
          "execution_count": 10
        }
      ]
    },
    {
      "cell_type": "markdown",
      "metadata": {
        "id": "DBBgkxFDhQAw",
        "colab_type": "text"
      },
      "source": [
        "### Вертикальний градієнт"
      ]
    },
    {
      "cell_type": "markdown",
      "metadata": {
        "id": "hMfT-HI8hQAx",
        "colab_type": "text"
      },
      "source": [
        "2.6 Створити нульовий масив розміром 255х255"
      ]
    },
    {
      "cell_type": "code",
      "metadata": {
        "id": "fgor8WVvhQAx",
        "colab_type": "code",
        "colab": {}
      },
      "source": [
        "vertical_gradient1 = np.zeros((255,255))\n",
        "print(\" \")"
      ],
      "execution_count": 0,
      "outputs": []
    },
    {
      "cell_type": "markdown",
      "metadata": {
        "id": "ad4e0fEUhQA2",
        "colab_type": "text"
      },
      "source": [
        "2.7 Визначити розміри масиву"
      ]
    },
    {
      "cell_type": "code",
      "metadata": {
        "id": "UuWzmNfDhQA3",
        "colab_type": "code",
        "colab": {}
      },
      "source": [
        "w = vertical_gradient1.shape[1]\n",
        "h = vertical_gradient1.shape[0]"
      ],
      "execution_count": 0,
      "outputs": []
    },
    {
      "cell_type": "markdown",
      "metadata": {
        "id": "3xsSAcQChQA4",
        "colab_type": "text"
      },
      "source": [
        "2.8 Поелементно змінити яскравості кожного пікселя"
      ]
    },
    {
      "cell_type": "code",
      "metadata": {
        "id": "GDSwbuP6hQA5",
        "colab_type": "code",
        "colab": {}
      },
      "source": [
        "for i in range(0,w):\n",
        "    brightness=0\n",
        "    for j in range(0,h):\n",
        "        vertical_gradient1[j][i] = brightness\n",
        "        brightness+=1"
      ],
      "execution_count": 0,
      "outputs": []
    },
    {
      "cell_type": "markdown",
      "metadata": {
        "id": "ymVxj9_ZhQA6",
        "colab_type": "text"
      },
      "source": [
        "2.9 Записати зображення засабами OpenCV"
      ]
    },
    {
      "cell_type": "code",
      "metadata": {
        "id": "wXozP8mOhQA7",
        "colab_type": "code",
        "colab": {},
        "outputId": "0920d894-3bde-4c0b-e593-24eb5879eaa9"
      },
      "source": [
        "cv2.imwrite('vertical_grad1.jpg', vertical_gradient1)"
      ],
      "execution_count": 0,
      "outputs": [
        {
          "output_type": "execute_result",
          "data": {
            "text/plain": [
              "True"
            ]
          },
          "metadata": {
            "tags": []
          },
          "execution_count": 14
        }
      ]
    },
    {
      "cell_type": "markdown",
      "metadata": {
        "id": "mbEnt_8hhQA8",
        "colab_type": "text"
      },
      "source": [
        "2.10 Аналогічно створити горизонтальний градієнт в інший бік"
      ]
    },
    {
      "cell_type": "code",
      "metadata": {
        "id": "7gw3elN9hQA8",
        "colab_type": "code",
        "colab": {},
        "outputId": "4f159929-43cf-4a13-f1b8-379e8f19d241"
      },
      "source": [
        "vertical_gradient2 =np.zeros((255,255))\n",
        "\n",
        "w = vertical_gradient2.shape[1]\n",
        "h = vertical_gradient2.shape[0]\n",
        "\n",
        "for i in range(0,w):\n",
        "    brightness=255\n",
        "    for j in range(0,h):\n",
        "        vertical_gradient2[j][i] = brightness\n",
        "        brightness-=1\n",
        "        \n",
        "cv2.imwrite('vertical_grad2.jpg', vertical_gradient2)\n"
      ],
      "execution_count": 0,
      "outputs": [
        {
          "output_type": "execute_result",
          "data": {
            "text/plain": [
              "True"
            ]
          },
          "metadata": {
            "tags": []
          },
          "execution_count": 15
        }
      ]
    },
    {
      "cell_type": "code",
      "metadata": {
        "id": "ezBY4VeLhQA-",
        "colab_type": "code",
        "colab": {}
      },
      "source": [
        ""
      ],
      "execution_count": 0,
      "outputs": []
    }
  ]
}