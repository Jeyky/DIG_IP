{
 "cells": [
  {
   "cell_type": "markdown",
   "metadata": {},
   "source": [
    "# Налаштування робочого середовища\n",
    "\n",
    "#### 1. Встановити бібліотеки та пакети у командній консолі:\n",
    "\t- sudo apt-get install python3-dev python3-pip python3-venv\n",
    "\t- sudo -H pip3 install -U pip numpy\n",
    "\t- sudo apt-get install libx11-dev libgtk-3-dev libboost-python-dev\n",
    "\t- sudo apt-get install build-essential checkinstall cmake pkg-config yasm\n",
    "    - sudo apt-get install git\n",
    "\n",
    "\n",
    "#### 2. Перейти в каталог Documents та створити віртуальне середовище myenv:\n",
    "\t- cd ~/Documents\n",
    "    - python3 -m venv myenv/\n",
    "    \n",
    "\n",
    "#### 3. Активувати віртуальне середовище myenv у командній консолі:\n",
    "\t- source myenv/bin/activate\n",
    "    \n",
    "\tАктивне віртуальне середовище відображаеться префіксом (myenv) на початку командної консолі.\n",
    "    \n",
    "\n",
    "#### 4. Оновити pip - систему керування пакетами Python:\n",
    "\t- pip3 install --upgrade pip\n",
    "    \n",
    "    \n",
    "#### 5. Встановити бібліотеку OpenCV версії 3.4.x:\n",
    "\t- pip install opencv-python==3.4.5.20\n",
    "    \n",
    "\tДана команда довстановить всі необхідні пакети для коректної роботи OpenCV\n",
    "    \n",
    "\n",
    "#### 6. Перевірити версію встановленої бібліотеки OpenCV:\n",
    "\tЗапустити інтерпритатор Python у командній консолі:\n",
    "\t- python\n",
    "    \n",
    "\tІмпортувати бібліотеку OpenCV:\n",
    "\t- import cv2\n",
    "    \n",
    "\tПеревірити версію бібліотеки:\n",
    "\t- cv2.__version__\n",
    "    \n",
    "\tВийти з інтерпритатору Python:\n",
    "\t- exit()\n",
    "    \n",
    "#### 7. Встановити бібліотеку Matplotlib:\n",
    "\t- pip install matplotlib\n",
    "    \n",
    "#### 8. Встановити Jupter Notebook:\n",
    "\t- pip install jupyter\n",
    "    \n",
    "#### 9. Вийти з віртуального середовища:\n",
    "    - deactivate\n",
    "       \n",
    "#### 10. Завантажити лабораторні роботи:\n",
    "    - git clone https://github.com/mosolab/DIP.git"
   ]
  }
 ],
 "metadata": {
  "kernelspec": {
   "display_name": "Python 3",
   "language": "python",
   "name": "python3"
  },
  "language_info": {
   "codemirror_mode": {
    "name": "ipython",
    "version": 3
   },
   "file_extension": ".py",
   "mimetype": "text/x-python",
   "name": "python",
   "nbconvert_exporter": "python",
   "pygments_lexer": "ipython3",
   "version": "3.6.9"
  }
 },
 "nbformat": 4,
 "nbformat_minor": 2
}
