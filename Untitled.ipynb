{
 "cells": [
  {
   "cell_type": "code",
   "execution_count": 73,
   "metadata": {},
   "outputs": [
    {
     "name": "stdout",
     "output_type": "stream",
     "text": [
      "[[  0   0   0   0   0   0   0   0   0   0   0   0   0   0   0   0]\n",
      " [  0   0   0   0   0   0   0  13  13   0   0   0   0   0   0   0]\n",
      " [  0   0   0   0   0 128 244 255 255 244 131   0   0   0   0   0]\n",
      " [  0   0   0   0  86 255 170  36  35 173 255  85   0   0   0   0]\n",
      " [  0   0   0   3 143 255   0   0   0   0 255 130   0   0   0   0]\n",
      " [  0   0   0   0 122 255   0   0   0   0 255 120   0   0   0   0]\n",
      " [  0   0   0   0  38 223 183  44  45 182 223  39   0   0   0   0]\n",
      " [  0   0   0   0   0  82 255 235 234 253  79   0   0   0   0   0]\n",
      " [  0   0   0   0  91 255  99  34  33  94 255  89   0   0   0   0]\n",
      " [  0   0   0  15 214 168   0   0   0   0 166 208  14   0   0   0]\n",
      " [  0   0   0  18 235 140   0   0   0   0 138 230  18   0   0   0]\n",
      " [  0   0   0   7 170 244  52   0   0  49 245 163   6   0   0   0]\n",
      " [  0   0   0   0  41 232 247 211 211 245 235  44   0   0   0   0]\n",
      " [  0   0   0   0   0  11  66 136 135  67  11   0   0   0   0   0]\n",
      " [  0   0   0   0   0   0   0   0   0   0   0   0   0   0   0   0]\n",
      " [  0   0   0   0   0   0   0   0   0   0   0   0   0   0   0   0]]\n",
      "-----------\n",
      "--------\n",
      "before= [0 0 0 0 0 0 0 0 0 0 0 0 0 0 0 0]\n",
      "after= [0 0 0 0 0 0 0 0 0 0 0 0 0 0 0 0]\n",
      "before= [ 0  0  0  0  0  0  0 13 13  0  0  0  0  0  0  0]\n",
      "after= [0 0 0 0 0 0 0 0 0 0 0 0 0 0 0 0]\n",
      "before= [  0   0   0   0   0 128 244 255 255 244 131   0   0   0   0   0]\n",
      "after= [  0   0   0   0   0  11  66 136 135  67  11   0   0   0   0   0]\n",
      "before= [  0   0   0   0  86 255 170  36  35 173 255  85   0   0   0   0]\n",
      "after= [  0   0   0   0  41 232 247 211 211 245 235  44   0   0   0   0]\n",
      "before= [  0   0   0   3 143 255   0   0   0   0 255 130   0   0   0   0]\n",
      "after= [  0   0   0   7 170 244  52   0   0  49 245 163   6   0   0   0]\n",
      "before= [  0   0   0   0 122 255   0   0   0   0 255 120   0   0   0   0]\n",
      "after= [  0   0   0  18 235 140   0   0   0   0 138 230  18   0   0   0]\n",
      "before= [  0   0   0   0  38 223 183  44  45 182 223  39   0   0   0   0]\n",
      "after= [  0   0   0  15 214 168   0   0   0   0 166 208  14   0   0   0]\n",
      "before= [  0   0   0   0   0  82 255 235 234 253  79   0   0   0   0   0]\n",
      "after= [  0   0   0   0  91 255  99  34  33  94 255  89   0   0   0   0]\n",
      "[[  0   0   0   0   0   0   0   0   0   0   0   0   0   0   0   0]\n",
      " [  0   0   0   0   0   0   0   0   0   0   0   0   0   0   0   0]\n",
      " [  0   0   0   0   0  11  66 136 135  67  11   0   0   0   0   0]\n",
      " [  0   0   0   0  41 232 247 211 211 245 235  44   0   0   0   0]\n",
      " [  0   0   0   7 170 244  52   0   0  49 245 163   6   0   0   0]\n",
      " [  0   0   0  18 235 140   0   0   0   0 138 230  18   0   0   0]\n",
      " [  0   0   0  15 214 168   0   0   0   0 166 208  14   0   0   0]\n",
      " [  0   0   0   0  91 255  99  34  33  94 255  89   0   0   0   0]\n",
      " [  0   0   0   0  91 255  99  34  33  94 255  89   0   0   0   0]\n",
      " [  0   0   0  15 214 168   0   0   0   0 166 208  14   0   0   0]\n",
      " [  0   0   0  18 235 140   0   0   0   0 138 230  18   0   0   0]\n",
      " [  0   0   0   7 170 244  52   0   0  49 245 163   6   0   0   0]\n",
      " [  0   0   0   0  41 232 247 211 211 245 235  44   0   0   0   0]\n",
      " [  0   0   0   0   0  11  66 136 135  67  11   0   0   0   0   0]\n",
      " [  0   0   0   0   0   0   0   0   0   0   0   0   0   0   0   0]\n",
      " [  0   0   0   0   0   0   0   0   0   0   0   0   0   0   0   0]]\n"
     ]
    }
   ],
   "source": [
    "import cv2 \n",
    "import numpy as np\n",
    "import matplotlib.pyplot as plt\n",
    "\n",
    "\n",
    "img_bw=cv2.imread(\"./examples/1_8.png\",cv2.IMREAD_GRAYSCALE)\n",
    "print(img_bw)\n",
    "#tmp=np.zeros((1,img_bw.shape[0]),np.uint8)\n",
    "print(\"-----------\\n--------\")\n",
    "zu=[0, 1, 2, 3, 4, 5, 6, 7, 8, 9]\n",
    "def rotate(a):\n",
    "    for i in range(0,int(len(a)/2)):\n",
    "        tmp=a[i]\n",
    "        print(\"before=\",tmp)\n",
    "        a[i]=a[len(a)-1-i]\n",
    "        a[len(a)-1-i]=tmp\n",
    "        print(\"after=\",tmp)\n",
    "rotate(img_bw)\n",
    "print(img_bw)"
   ]
  },
  {
   "cell_type": "code",
   "execution_count": 74,
   "metadata": {},
   "outputs": [
    {
     "name": "stdout",
     "output_type": "stream",
     "text": [
      "[[  0   0   0   0   0   0   0   0   0   0   0   0   0   0   0   0]\n",
      " [  0   0   0   0   0   0   0  13  13   0   0   0   0   0   0   0]\n",
      " [  0   0   0   0   0 128 244 255 255 244 131   0   0   0   0   0]\n",
      " [  0   0   0   0  86 255 170  36  35 173 255  85   0   0   0   0]\n",
      " [  0   0   0   3 143 255   0   0   0   0 255 130   0   0   0   0]\n",
      " [  0   0   0   0 122 255   0   0   0   0 255 120   0   0   0   0]\n",
      " [  0   0   0   0  38 223 183  44  45 182 223  39   0   0   0   0]\n",
      " [  0   0   0   0   0  82 255 235 234 253  79   0   0   0   0   0]\n",
      " [  0   0   0   0  91 255  99  34  33  94 255  89   0   0   0   0]\n",
      " [  0   0   0  15 214 168   0   0   0   0 166 208  14   0   0   0]\n",
      " [  0   0   0  18 235 140   0   0   0   0 138 230  18   0   0   0]\n",
      " [  0   0   0   7 170 244  52   0   0  49 245 163   6   0   0   0]\n",
      " [  0   0   0   0  41 232 247 211 211 245 235  44   0   0   0   0]\n",
      " [  0   0   0   0   0  11  66 136 135  67  11   0   0   0   0   0]\n",
      " [  0   0   0   0   0   0   0   0   0   0   0   0   0   0   0   0]\n",
      " [  0   0   0   0   0   0   0   0   0   0   0   0   0   0   0   0]]\n",
      "-----------\n",
      "--------\n",
      "[[  0   0   0   0   0   0   0   0   0   0   0   0   0   0   0   0]\n",
      " [  0   0   0   0   0   0   0   0   0   0   0   0   0   0   0   0]\n",
      " [  0   0   0   0   0  11  66 136 135  67  11   0   0   0   0   0]\n",
      " [  0   0   0   0  41 232 247 211 211 245 235  44   0   0   0   0]\n",
      " [  0   0   0   7 170 244  52   0   0  49 245 163   6   0   0   0]\n",
      " [  0   0   0  18 235 140   0   0   0   0 138 230  18   0   0   0]\n",
      " [  0   0   0  15 214 168   0   0   0   0 166 208  14   0   0   0]\n",
      " [  0   0   0   0  91 255  99  34  33  94 255  89   0   0   0   0]\n",
      " [  0   0   0   0   0  82 255 235 234 253  79   0   0   0   0   0]\n",
      " [  0   0   0   0  38 223 183  44  45 182 223  39   0   0   0   0]\n",
      " [  0   0   0   0 122 255   0   0   0   0 255 120   0   0   0   0]\n",
      " [  0   0   0   3 143 255   0   0   0   0 255 130   0   0   0   0]\n",
      " [  0   0   0   0  86 255 170  36  35 173 255  85   0   0   0   0]\n",
      " [  0   0   0   0   0 128 244 255 255 244 131   0   0   0   0   0]\n",
      " [  0   0   0   0   0   0   0  13  13   0   0   0   0   0   0   0]\n",
      " [  0   0   0   0   0   0   0   0   0   0   0   0   0   0   0   0]]\n"
     ]
    }
   ],
   "source": [
    "import cv2 \n",
    "import numpy as np\n",
    "import matplotlib.pyplot as plt\n",
    "\n",
    "\n",
    "img_bw=cv2.imread(\"./examples/1_8.png\",cv2.IMREAD_GRAYSCALE)\n",
    "print(img_bw)\n",
    "#tmp=np.zeros((1,img_bw.shape[0]),np.uint8)\n",
    "print(\"-----------\\n--------\")\n",
    "zu=[0, 1, 2, 3, 4, 5, 6, 7, 8, 9]\n",
    "def rotate(a):\n",
    "    for i in range(0,int(len(a)/2)):\n",
    "        a[i]=a[i]+a[len(a)-1-i]\n",
    "        a[len(a)-1-i]=a[i]-a[len(a)-1-i]\n",
    "        a[i]=a[i]-a[len(a)-1-i]\n",
    "rotate(img_bw)\n",
    "print(img_bw)"
   ]
  },
  {
   "cell_type": "code",
   "execution_count": 26,
   "metadata": {},
   "outputs": [
    {
     "data": {
      "image/png": "[encoded data removed]",
      "text/plain": [
       "<Figure size 360x360 with 1 Axes>"
      ]
     },
     "metadata": {
      "needs_background": "light"
     },
     "output_type": "display_data"
    },
    {
     "data": {
      "image/png": "[encoded data removed]",
      "text/plain": [
       "<Figure size 360x360 with 1 Axes>"
      ]
     },
     "metadata": {
      "needs_background": "light"
     },
     "output_type": "display_data"
    },
    {
     "data": {
      "image/png": "[encoded data removed]",
      "text/plain": [
       "<Figure size 360x360 with 1 Axes>"
      ]
     },
     "metadata": {
      "needs_background": "light"
     },
     "output_type": "display_data"
    }
   ],
   "source": [
    "import cv2 \n",
    "import numpy as np\n",
    "import matplotlib.pyplot as plt\n",
    "\n",
    "\n",
    "img_bw=cv2.imread(\"./examples/1_8.png\",cv2.IMREAD_GRAYSCALE)\n",
    "#print(img_bw)\n",
    "plt.figure(figsize=(5,5))\n",
    "plt.imshow(img_bw,cmap=\"copper\")\n",
    "plt.show();\n",
    "\n",
    "img=cv2.imread(\"./examples/rgb.png\")\n",
    "img=cv2.cvtColor(img,cv2.COLOR_BGR2RGB)\n",
    "plt.figure(figsize=(5,5))\n",
    "plt.imshow(img)\n",
    "plt.show();\n",
    "img.shape\n",
    "plt.figure(figsize=(5,5))\n",
    "plt.imshow(img[200:300,200:300])\n",
    "plt.show()"
   ]
  },
  {
   "cell_type": "code",
   "execution_count": null,
   "metadata": {},
   "outputs": [],
   "source": []
  }
 ],
 "metadata": {
  "kernelspec": {
   "display_name": "Python 3",
   "language": "python",
   "name": "python3"
  },
  "language_info": {
   "codemirror_mode": {
    "name": "ipython",
    "version": 3
   },
   "file_extension": ".py",
   "mimetype": "text/x-python",
   "name": "python",
   "nbconvert_exporter": "python",
   "pygments_lexer": "ipython3",
   "version": "3.6.9"
  }
 },
 "nbformat": 4,
 "nbformat_minor": 4
}
